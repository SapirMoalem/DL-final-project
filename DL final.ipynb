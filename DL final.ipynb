{
 "cells": [
  {
   "cell_type": "markdown",
   "metadata": {},
   "source": [
    "# Deep learning \n",
    "#### Final project\n",
    "#### Yahav & Sapir"
   ]
  },
  {
   "cell_type": "code",
   "execution_count": 1,
   "metadata": {},
   "outputs": [],
   "source": [
    "# ! pip install tensorflow"
   ]
  },
  {
   "cell_type": "code",
   "execution_count": 2,
   "metadata": {},
   "outputs": [],
   "source": [
    "import pandas as pd\n",
    "import numpy as np\n",
    "import matplotlib.pyplot as plt\n",
    "from sklearn.metrics import confusion_matrix\n",
    "import seaborn as sns\n",
    "import tensorflow as tf\n",
    "import tensorflow.keras as keras\n",
    "from tensorflow.keras import activations\n",
    "from tensorflow.keras.models import Sequential\n",
    "from tensorflow.keras.layers import Dense, Conv2D, MaxPool2D, Flatten, Dropout, BatchNormalization\n",
    "from tensorflow.keras.metrics import Precision, Recall\n",
    "\n",
    "tf.compat.v1.disable_eager_execution()\n",
    "\n",
    "sess = tf.compat.v1.Session()\n"
   ]
  },
  {
   "cell_type": "markdown",
   "metadata": {},
   "source": [
    "## import data and split to train/test , x/y and reshape"
   ]
  },
  {
   "cell_type": "code",
   "execution_count": 3,
   "metadata": {},
   "outputs": [],
   "source": [
    "#there are 24 letters but for the order j get an index althogh j and z dont have data\n",
    "labels = ['A', 'B', 'C', 'D', 'E',\n",
    "            'F', 'G', 'H', 'I', 'J',\n",
    "            'K', 'L', 'M', 'N', 'O',\n",
    "            'P', 'Q', 'R', 'S', 'T',\n",
    "            'U', 'V', 'W', 'X', 'Y']\n",
    "\n",
    "# Importing the data - test and train\n",
    "test = pd.read_csv(\"sign_mnist_test.csv\").to_numpy() \n",
    "train = pd.read_csv(\"sign_mnist_train.csv\").to_numpy()\n",
    "\n",
    "# Splitting test into x & y - x = fetures y = labels \n",
    "# Note: we do OneHot on the y to get it as a vector at the size of the categories\n",
    "# then put's 1 where the right label is and zero in the rest\n",
    "y_test=test[:,0]\n",
    "y_test=keras.utils.to_categorical(y_test, len(labels))\n",
    "x_test=test[:,1:]/255\n",
    "\n",
    "# Splitting data into x & y -> x = fetures y = labels\n",
    "# Note: we do OneHot on the y to get it as a vector at the size of the categories\n",
    "# then put's 1 where the right label is and zero in the rest\n",
    "data_y=train[:,0]\n",
    "data_y=keras.utils.to_categorical(data_y, len(labels))\n",
    "data_x=train[:,1:]/255\n",
    "\n",
    "# Reshape the data from a flat array (1D) to a 28x28 image format (2D) because convolutional neural networks (CNNs) expect input data in the form of images with width height, and channels\n",
    "data_x = data_x.reshape(-1,28,28,1)\n",
    "x_test = x_test.reshape(-1,28,28,1)\n"
   ]
  },
  {
   "cell_type": "markdown",
   "metadata": {},
   "source": [
    "## Print an image from the dataset for example"
   ]
  },
  {
   "cell_type": "code",
   "execution_count": 4,
   "metadata": {},
   "outputs": [
    {
     "data": {
      "image/png": "[encoded data removed]",
      "text/plain": [
       "<Figure size 432x288 with 1 Axes>"
      ]
     },
     "metadata": {
      "needs_background": "light"
     },
     "output_type": "display_data"
    }
   ],
   "source": [
    "# Print an example image\n",
    "digit = data_x[3]\n",
    "plt.imshow(digit, cmap=plt.cm.binary)\n",
    "plt.show()"
   ]
  },
  {
   "cell_type": "markdown",
   "metadata": {},
   "source": [
    "## Define the arcitecture of the model"
   ]
  },
  {
   "cell_type": "code",
   "execution_count": 5,
   "metadata": {
    "scrolled": false
   },
   "outputs": [],
   "source": [
    "import tensorflow as tf\n",
    "from tensorflow.keras.models import Sequential\n",
    "from tensorflow.keras.layers import Dense, Conv2D, MaxPool2D, Flatten, Dropout, BatchNormalization\n",
    "from tensorflow.keras.metrics import Precision, Recall\n",
    "\n",
    "# Create a Sequential model\n",
    "cnn_model = Sequential()\n",
    "\n",
    "        ##### 1 #####\n",
    "# Add the first convolutional layer\n",
    "# - 32 filters of size (3x3)\n",
    "# - Input shape: (28, 28, 1) indicating 28x28 pixel grayscale images\n",
    "# - Activation function: Rectified Linear Unit (ReLU)\n",
    "cnn_model.add(Conv2D(32, (3, 3), input_shape=(28, 28, 1), activation='relu'))\n",
    "\n",
    "# Add max-pooling layer to downsample the spatial dimensions\n",
    "cnn_model.add(MaxPool2D(pool_size=(2, 2)))\n",
    "\n",
    "# Add dropout layer to prevent overfitting by randomly deactivating 20% of neurons\n",
    "cnn_model.add(Dropout(0.2))\n",
    "\n",
    "        ##### 2 #####\n",
    "# Add the second convolutional layer\n",
    "cnn_model.add(Conv2D(64, (3, 3), activation='relu'))\n",
    "\n",
    "# Add max-pooling layer\n",
    "cnn_model.add(MaxPool2D(pool_size=(2, 2)))\n",
    "\n",
    "# Add dropout layer\n",
    "cnn_model.add(Dropout(0.2))\n",
    "\n",
    "        ##### 3 #####\n",
    "# Add the third convolutional layer\n",
    "cnn_model.add(Conv2D(128, (3, 3), activation='relu'))\n",
    "\n",
    "# Add max-pooling layer\n",
    "cnn_model.add(MaxPool2D(pool_size=(2, 2)))\n",
    "\n",
    "# Add dropout layer\n",
    "cnn_model.add(Dropout(0.2))\n",
    "\n",
    "# Flatten the output from the previous layer to prepare for fully connected layers\n",
    "cnn_model.add(Flatten())\n",
    "\n",
    "# Add a fully connected hidden layer with 128 neurons and ReLU activation\n",
    "cnn_model.add(Dense(128, activation='relu'))\n",
    "\n",
    "# Add the output layer with the number of neurons equal to the number of labels\n",
    "# and softmax activation for multi-class classification\n",
    "cnn_model.add(Dense(len(labels), activation='softmax'))\n"
   ]
  },
  {
   "cell_type": "markdown",
   "metadata": {},
   "source": [
    "#### Model summery"
   ]
  },
  {
   "cell_type": "code",
   "execution_count": 6,
   "metadata": {},
   "outputs": [
    {
     "name": "stdout",
     "output_type": "stream",
     "text": [
      "Model: \"sequential\"\n",
      "_________________________________________________________________\n",
      " Layer (type)                Output Shape              Param #   \n",
      "=================================================================\n",
      " conv2d (Conv2D)             (None, 26, 26, 32)        320       \n",
      "                                                                 \n",
      " max_pooling2d (MaxPooling2D  (None, 13, 13, 32)       0         \n",
      " )                                                               \n",
      "                                                                 \n",
      " dropout (Dropout)           (None, 13, 13, 32)        0         \n",
      "                                                                 \n",
      " conv2d_1 (Conv2D)           (None, 11, 11, 64)        18496     \n",
      "                                                                 \n",
      " max_pooling2d_1 (MaxPooling  (None, 5, 5, 64)         0         \n",
      " 2D)                                                             \n",
      "                                                                 \n",
      " dropout_1 (Dropout)         (None, 5, 5, 64)          0         \n",
      "                                                                 \n",
      " conv2d_2 (Conv2D)           (None, 3, 3, 128)         73856     \n",
      "                                                                 \n",
      " max_pooling2d_2 (MaxPooling  (None, 1, 1, 128)        0         \n",
      " 2D)                                                             \n",
      "                                                                 \n",
      " dropout_2 (Dropout)         (None, 1, 1, 128)         0         \n",
      "                                                                 \n",
      " flatten (Flatten)           (None, 128)               0         \n",
      "                                                                 \n",
      " dense (Dense)               (None, 128)               16512     \n",
      "                                                                 \n",
      " dense_1 (Dense)             (None, 25)                3225      \n",
      "                                                                 \n",
      "=================================================================\n",
      "Total params: 112,409\n",
      "Trainable params: 112,409\n",
      "Non-trainable params: 0\n",
      "_________________________________________________________________\n"
     ]
    }
   ],
   "source": [
    "cnn_model.summary()"
   ]
  },
  {
   "cell_type": "markdown",
   "metadata": {},
   "source": [
    "## Compile the model"
   ]
  },
  {
   "cell_type": "code",
   "execution_count": 7,
   "metadata": {},
   "outputs": [],
   "source": [
    "# Compile the model:\n",
    "# - Optimizer: Adam optimizer for gradient descent\n",
    "# - Loss function: Categorical Crossentropy for multi-class classification\n",
    "# - Metrics: Accuracy, Precision, and Recall to monitor model performance\n",
    "cnn_model.compile(optimizer='adam', loss='categorical_crossentropy',\n",
    "                   metrics=['accuracy', Precision(), Recall()])"
   ]
  },
  {
   "cell_type": "markdown",
   "metadata": {},
   "source": [
    "## \"Fitting\" the model"
   ]
  },
  {
   "cell_type": "code",
   "execution_count": null,
   "metadata": {},
   "outputs": [
    {
     "name": "stdout",
     "output_type": "stream",
     "text": [
      "Train on 27455 samples, validate on 27455 samples\n",
      "Epoch 1/20\n",
      "27450/27455 [============================>.] - ETA: 0s - loss: 2.0973 - accuracy: 0.3451 - precision: 0.7431 - recall: 0.1595"
     ]
    },
    {
     "name": "stderr",
     "output_type": "stream",
     "text": [
      "C:\\Users\\yahav\\anaconda3\\lib\\site-packages\\keras\\engine\\training_v1.py:2332: UserWarning: `Model.state_updates` will be removed in a future version. This property should not be used in TensorFlow 2.0, as `updates` are applied automatically.\n",
      "  updates = self.state_updates\n"
     ]
    },
    {
     "name": "stdout",
     "output_type": "stream",
     "text": [
      "27455/27455 [==============================] - 43s 2ms/sample - loss: 2.0971 - accuracy: 0.3451 - precision: 0.7431 - recall: 0.1595 - val_loss: 0.7546 - val_accuracy: 0.7650 - val_precision: 0.8910 - val_recall: 0.5832\n",
      "Epoch 2/20\n",
      "27455/27455 [==============================] - 37s 1ms/sample - loss: 0.6842 - accuracy: 0.7684 - precision: 0.8531 - recall: 0.6637 - val_loss: 0.2609 - val_accuracy: 0.9273 - val_precision: 0.9535 - val_recall: 0.8868\n",
      "Epoch 3/20\n",
      "27455/27455 [==============================] - 39s 1ms/sample - loss: 0.3473 - accuracy: 0.8814 - precision: 0.9128 - recall: 0.8425 - val_loss: 0.0894 - val_accuracy: 0.9843 - val_precision: 0.9876 - val_recall: 0.9736\n",
      "Epoch 4/20\n",
      "27455/27455 [==============================] - 40s 1ms/sample - loss: 0.2200 - accuracy: 0.9275 - precision: 0.9429 - recall: 0.9093 - val_loss: 0.0424 - val_accuracy: 0.9949 - val_precision: 0.9962 - val_recall: 0.9913\n",
      "Epoch 5/20\n",
      "27250/27455 [============================>.] - ETA: 0s - loss: 0.1499 - accuracy: 0.9514 - precision: 0.9605 - recall: 0.9402"
     ]
    }
   ],
   "source": [
    "# Train your model \n",
    "history = cnn_model.fit(data_x, data_y, epochs = 20, batch_size = 50, validation_data = (data_x, data_y))\n"
   ]
  },
  {
   "cell_type": "markdown",
   "metadata": {},
   "source": [
    "## Plot the metrics"
   ]
  },
  {
   "cell_type": "code",
   "execution_count": null,
   "metadata": {},
   "outputs": [],
   "source": [
    "# Collect metrics during training\n",
    "accuracy = history.history['accuracy']\n",
    "precision = history.history['precision']\n",
    "recall = history.history['recall']"
   ]
  },
  {
   "cell_type": "code",
   "execution_count": null,
   "metadata": {},
   "outputs": [],
   "source": [
    "epochs = range(1, len(accuracy) + 1)\n",
    "\n",
    "plt.figure(figsize=(12, 4))\n",
    "plt.subplot(131)\n",
    "plt.plot(epochs, accuracy, 'bo-', label='Training Accuracy')\n",
    "plt.plot(epochs, history.history['val_accuracy'], 'ro-', label='Validation Accuracy')\n",
    "plt.title('Training and Validation Accuracy')\n",
    "plt.xlabel('Epochs')\n",
    "plt.ylabel('Accuracy')\n",
    "plt.legend()\n",
    "\n",
    "plt.subplot(132)\n",
    "plt.plot(epochs, precision, 'bo-', label='Training Precision')\n",
    "plt.plot(epochs, history.history['val_precision'], 'ro-', label='Validation Precision')\n",
    "plt.title('Training and Validation Precision')\n",
    "plt.xlabel('Epochs')\n",
    "plt.ylabel('Precision')\n",
    "plt.legend()\n",
    "\n",
    "plt.subplot(133)\n",
    "plt.plot(epochs, recall, 'bo-', label='Training Recall')\n",
    "plt.plot(epochs, history.history['val_recall'], 'ro-', label='Validation Recall')\n",
    "plt.title('Training and Validation Recall')\n",
    "plt.xlabel('Epochs')\n",
    "plt.ylabel('Recall')\n",
    "plt.legend()\n",
    "\n",
    "plt.tight_layout()\n",
    "plt.show()"
   ]
  },
  {
   "cell_type": "markdown",
   "metadata": {},
   "source": [
    "## Model evaluation"
   ]
  },
  {
   "cell_type": "code",
   "execution_count": null,
   "metadata": {},
   "outputs": [],
   "source": [
    "# Evaluate the model on the test data\n",
    "evaluation = cnn_model.evaluate(x_test, y_test)\n",
    "\n",
    "# Print the evaluation results\n",
    "print(f\"Test Loss: {evaluation[0]}\")\n",
    "print(f\"Test Accuracy: {evaluation[1]}\")\n",
    "print(f\"Test Precision: {evaluation[2]}\")\n",
    "print(f\"Test Recall: {evaluation[3]}\")"
   ]
  },
  {
   "cell_type": "markdown",
   "metadata": {},
   "source": [
    "## Model summery"
   ]
  },
  {
   "cell_type": "code",
   "execution_count": null,
   "metadata": {},
   "outputs": [],
   "source": [
    "cnn_model.summary()"
   ]
  },
  {
   "cell_type": "markdown",
   "metadata": {},
   "source": [
    "## After seeing that there is an overfitting according to the plots, we tried to add regularizers to the model"
   ]
  },
  {
   "cell_type": "code",
   "execution_count": null,
   "metadata": {},
   "outputs": [],
   "source": [
    "import tensorflow as tf\n",
    "from tensorflow.keras.models import Sequential\n",
    "from tensorflow.keras.layers import Dense, Conv2D, MaxPool2D, Flatten, Dropout, BatchNormalization\n",
    "from tensorflow.keras.metrics import Precision, Recall\n",
    "from tensorflow.keras.regularizers import l2  # Import the L2 regularizer\n",
    "\n",
    "# Create a Sequential model\n",
    "cnn_model = Sequential()\n",
    "\n",
    "        ##### 1 #####\n",
    "# Add the first convolutional layer with L2 regularization\n",
    "cnn_model.add(Conv2D(32, (3, 3), input_shape=(28, 28, 1), activation='relu', kernel_regularizer=l2(0.01)))\n",
    "\n",
    "# Add max-pooling layer\n",
    "cnn_model.add(MaxPool2D(pool_size=(2, 2)))\n",
    "\n",
    "# Add dropout layer\n",
    "cnn_model.add(Dropout(0.2))\n",
    "\n",
    "        ##### 2 #####\n",
    "# Add the second convolutional layer with L2 regularization\n",
    "cnn_model.add(Conv2D(64, (3, 3), activation='relu', kernel_regularizer=l2(0.01)))\n",
    "\n",
    "# Add max-pooling layer\n",
    "cnn_model.add(MaxPool2D(pool_size=(2, 2)))\n",
    "\n",
    "# Add dropout layer\n",
    "cnn_model.add(Dropout(0.2))\n",
    "\n",
    "        ##### 3 #####\n",
    "# Add the third convolutional layer with L2 regularization\n",
    "cnn_model.add(Conv2D(128, (3, 3), activation='relu', kernel_regularizer=l2(0.01)))\n",
    "\n",
    "# Add max-pooling layer\n",
    "cnn_model.add(MaxPool2D(pool_size=(2, 2)))\n",
    "\n",
    "# Add dropout layer\n",
    "cnn_model.add(Dropout(0.2))\n",
    "\n",
    "# Flatten the output from the previous layer to prepare for fully connected layers\n",
    "cnn_model.add(Flatten())\n",
    "\n",
    "# Add a fully connected hidden layer with 128 neurons and ReLU activation with L2 regularization\n",
    "cnn_model.add(Dense(128, activation='relu', kernel_regularizer=l2(0.01)))\n",
    "\n",
    "# Add the output layer with the number of neurons equal to the number of labels\n",
    "# and softmax activation for multi-class classification\n",
    "cnn_model.add(Dense(len(labels), activation='softmax'))\n"
   ]
  },
  {
   "cell_type": "code",
   "execution_count": null,
   "metadata": {},
   "outputs": [],
   "source": [
    "# Compile the model with L2 regularization:\n",
    "# - Optimizer: Adam optimizer for gradient descent\n",
    "# - Loss function: Categorical Crossentropy for multi-class classification\n",
    "# - Metrics: Accuracy\n",
    "cnn_model.compile(optimizer='adam', loss='categorical_crossentropy',\n",
    "                   metrics=['accuracy'])\n"
   ]
  },
  {
   "cell_type": "code",
   "execution_count": null,
   "metadata": {},
   "outputs": [],
   "source": [
    "# Train the model \n",
    "history = cnn_model.fit(data_x, data_y, epochs=20, batch_size=50, validation_data=(data_x, data_y))\n"
   ]
  },
  {
   "cell_type": "markdown",
   "metadata": {},
   "source": [
    "#### New accuracy"
   ]
  },
  {
   "cell_type": "code",
   "execution_count": null,
   "metadata": {},
   "outputs": [],
   "source": [
    "plt.plot(history.history['accuracy'])\n",
    "plt.plot(history.history['val_accuracy'])\n",
    "plt.title(\"Model Accuracy\")\n",
    "plt.ylabel(\"Accuracy\")\n",
    "plt.xlabel(\"Epoch\")\n",
    "plt.legend(['train set', 'validation set'], loc='upper left')\n",
    "plt.show()"
   ]
  },
  {
   "cell_type": "markdown",
   "metadata": {},
   "source": [
    "#### New loss func"
   ]
  },
  {
   "cell_type": "code",
   "execution_count": null,
   "metadata": {},
   "outputs": [],
   "source": [
    "plt.plot(history.history['loss'])\n",
    "plt.plot(history.history['val_loss'])\n",
    "plt.title(\"Model Loss\")\n",
    "plt.ylabel(\"Loss\")\n",
    "plt.xlabel(\"Epoch\")\n",
    "plt.legend(['train set', 'validation set'], loc = 'upper left')\n",
    "plt.show()"
   ]
  },
  {
   "cell_type": "code",
   "execution_count": null,
   "metadata": {},
   "outputs": [],
   "source": []
  }
 ],
 "metadata": {
  "kernelspec": {
   "display_name": "Python 3 (ipykernel)",
   "language": "python",
   "name": "python3"
  },
  "language_info": {
   "codemirror_mode": {
    "name": "ipython",
    "version": 3
   },
   "file_extension": ".py",
   "mimetype": "text/x-python",
   "name": "python",
   "nbconvert_exporter": "python",
   "pygments_lexer": "ipython3",
   "version": "3.9.7"
  }
 },
 "nbformat": 4,
 "nbformat_minor": 4
}
